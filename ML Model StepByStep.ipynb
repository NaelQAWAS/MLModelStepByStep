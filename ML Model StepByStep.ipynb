{
 "cells": [
  {
   "cell_type": "markdown",
   "id": "db8c0807",
   "metadata": {},
   "source": [
    "# Python Machine Learning"
   ]
  },
  {
   "cell_type": "markdown",
   "id": "8db474ed",
   "metadata": {},
   "source": [
    "* **Import** the Data.\n",
    "* **Clean** the Data.\n",
    "* **Split** the Data into Training & Testing Sets.\n",
    "* **Create** the Model.\n",
    "* **Train** the Model.\n",
    "* Make Predictions.\n",
    "* Evaluate and Improve."
   ]
  },
  {
   "cell_type": "code",
   "execution_count": null,
   "id": "fe84bef1",
   "metadata": {},
   "outputs": [],
   "source": []
  },
  {
   "cell_type": "markdown",
   "id": "9484fd19",
   "metadata": {},
   "source": [
    "### Importing the Data"
   ]
  },
  {
   "cell_type": "code",
   "execution_count": null,
   "id": "bbf79198",
   "metadata": {},
   "outputs": [],
   "source": [
    "import pandas as pd\n",
    "print (\"Pandas Libraries has been Imported!\")"
   ]
  },
  {
   "cell_type": "code",
   "execution_count": 8,
   "id": "02542fd2",
   "metadata": {},
   "outputs": [
    {
     "name": "stdout",
     "output_type": "stream",
     "text": [
      "Retriving Transactions Done!\n"
     ]
    }
   ],
   "source": [
    "music_data = pd.read_csv(\"https://nq.aibigdatasolutions.com/wp-content/uploads/2021/11/music.csv\")\n",
    "print (\"Retriving Transactions Done!\")"
   ]
  },
  {
   "cell_type": "code",
   "execution_count": 33,
   "id": "79d30025",
   "metadata": {},
   "outputs": [],
   "source": [
    "#music_data"
   ]
  },
  {
   "cell_type": "markdown",
   "id": "32d7f770",
   "metadata": {},
   "source": [
    "### Cleaning & Prepearing the Data"
   ]
  },
  {
   "cell_type": "code",
   "execution_count": 49,
   "id": "56035b80",
   "metadata": {},
   "outputs": [],
   "source": [
    "X = music_data.drop(columns=['genre'])\n",
    "y = music_data ['genre']"
   ]
  },
  {
   "cell_type": "code",
   "execution_count": 50,
   "id": "2042a0de",
   "metadata": {},
   "outputs": [],
   "source": [
    "#x"
   ]
  },
  {
   "cell_type": "code",
   "execution_count": 51,
   "id": "df1ebe0e",
   "metadata": {},
   "outputs": [],
   "source": [
    "#Y"
   ]
  },
  {
   "cell_type": "markdown",
   "id": "514172a2",
   "metadata": {},
   "source": [
    "### Learning & Predicting"
   ]
  },
  {
   "cell_type": "code",
   "execution_count": 52,
   "id": "71cbc6e6",
   "metadata": {},
   "outputs": [
    {
     "name": "stdout",
     "output_type": "stream",
     "text": [
      "sklearn.trees Imported!\n"
     ]
    }
   ],
   "source": [
    "from sklearn.tree import DecisionTreeClassifier\n",
    "print (\"sklearn.trees Imported!\")"
   ]
  },
  {
   "cell_type": "code",
   "execution_count": 53,
   "id": "b63d2ca7",
   "metadata": {},
   "outputs": [],
   "source": [
    "# Create object of the class\n",
    "model = DecisionTreeClassifier()\n",
    "# now we have a model"
   ]
  },
  {
   "cell_type": "code",
   "execution_count": 54,
   "id": "d5147b26",
   "metadata": {},
   "outputs": [
    {
     "data": {
      "text/plain": [
       "DecisionTreeClassifier()"
      ]
     },
     "execution_count": 54,
     "metadata": {},
     "output_type": "execute_result"
    }
   ],
   "source": [
    "# Learning the model is very easy, it taked 2 parameters input& output:\n",
    "model.fit(X,y)"
   ]
  },
  {
   "cell_type": "code",
   "execution_count": 61,
   "id": "ea4aa56a",
   "metadata": {},
   "outputs": [
    {
     "data": {
      "text/html": [
       "<div>\n",
       "<style scoped>\n",
       "    .dataframe tbody tr th:only-of-type {\n",
       "        vertical-align: middle;\n",
       "    }\n",
       "\n",
       "    .dataframe tbody tr th {\n",
       "        vertical-align: top;\n",
       "    }\n",
       "\n",
       "    .dataframe thead th {\n",
       "        text-align: right;\n",
       "    }\n",
       "</style>\n",
       "<table border=\"1\" class=\"dataframe\">\n",
       "  <thead>\n",
       "    <tr style=\"text-align: right;\">\n",
       "      <th></th>\n",
       "      <th>age</th>\n",
       "      <th>gender</th>\n",
       "      <th>genre</th>\n",
       "    </tr>\n",
       "  </thead>\n",
       "  <tbody>\n",
       "    <tr>\n",
       "      <th>0</th>\n",
       "      <td>20</td>\n",
       "      <td>1</td>\n",
       "      <td>HipHop</td>\n",
       "    </tr>\n",
       "    <tr>\n",
       "      <th>1</th>\n",
       "      <td>23</td>\n",
       "      <td>1</td>\n",
       "      <td>HipHop</td>\n",
       "    </tr>\n",
       "    <tr>\n",
       "      <th>2</th>\n",
       "      <td>25</td>\n",
       "      <td>1</td>\n",
       "      <td>HipHop</td>\n",
       "    </tr>\n",
       "    <tr>\n",
       "      <th>3</th>\n",
       "      <td>26</td>\n",
       "      <td>1</td>\n",
       "      <td>Jazz</td>\n",
       "    </tr>\n",
       "    <tr>\n",
       "      <th>4</th>\n",
       "      <td>29</td>\n",
       "      <td>1</td>\n",
       "      <td>Jazz</td>\n",
       "    </tr>\n",
       "    <tr>\n",
       "      <th>5</th>\n",
       "      <td>30</td>\n",
       "      <td>1</td>\n",
       "      <td>Jazz</td>\n",
       "    </tr>\n",
       "    <tr>\n",
       "      <th>6</th>\n",
       "      <td>31</td>\n",
       "      <td>1</td>\n",
       "      <td>Classical</td>\n",
       "    </tr>\n",
       "    <tr>\n",
       "      <th>7</th>\n",
       "      <td>33</td>\n",
       "      <td>1</td>\n",
       "      <td>Classical</td>\n",
       "    </tr>\n",
       "    <tr>\n",
       "      <th>8</th>\n",
       "      <td>37</td>\n",
       "      <td>1</td>\n",
       "      <td>Classical</td>\n",
       "    </tr>\n",
       "    <tr>\n",
       "      <th>9</th>\n",
       "      <td>20</td>\n",
       "      <td>0</td>\n",
       "      <td>Dance</td>\n",
       "    </tr>\n",
       "    <tr>\n",
       "      <th>10</th>\n",
       "      <td>21</td>\n",
       "      <td>0</td>\n",
       "      <td>Dance</td>\n",
       "    </tr>\n",
       "    <tr>\n",
       "      <th>11</th>\n",
       "      <td>25</td>\n",
       "      <td>0</td>\n",
       "      <td>Dance</td>\n",
       "    </tr>\n",
       "    <tr>\n",
       "      <th>12</th>\n",
       "      <td>26</td>\n",
       "      <td>0</td>\n",
       "      <td>Acoustic</td>\n",
       "    </tr>\n",
       "    <tr>\n",
       "      <th>13</th>\n",
       "      <td>27</td>\n",
       "      <td>0</td>\n",
       "      <td>Acoustic</td>\n",
       "    </tr>\n",
       "    <tr>\n",
       "      <th>14</th>\n",
       "      <td>30</td>\n",
       "      <td>0</td>\n",
       "      <td>Acoustic</td>\n",
       "    </tr>\n",
       "    <tr>\n",
       "      <th>15</th>\n",
       "      <td>31</td>\n",
       "      <td>0</td>\n",
       "      <td>Classical</td>\n",
       "    </tr>\n",
       "    <tr>\n",
       "      <th>16</th>\n",
       "      <td>34</td>\n",
       "      <td>0</td>\n",
       "      <td>Classical</td>\n",
       "    </tr>\n",
       "    <tr>\n",
       "      <th>17</th>\n",
       "      <td>35</td>\n",
       "      <td>0</td>\n",
       "      <td>Classical</td>\n",
       "    </tr>\n",
       "  </tbody>\n",
       "</table>\n",
       "</div>"
      ],
      "text/plain": [
       "    age  gender      genre\n",
       "0    20       1     HipHop\n",
       "1    23       1     HipHop\n",
       "2    25       1     HipHop\n",
       "3    26       1       Jazz\n",
       "4    29       1       Jazz\n",
       "5    30       1       Jazz\n",
       "6    31       1  Classical\n",
       "7    33       1  Classical\n",
       "8    37       1  Classical\n",
       "9    20       0      Dance\n",
       "10   21       0      Dance\n",
       "11   25       0      Dance\n",
       "12   26       0   Acoustic\n",
       "13   27       0   Acoustic\n",
       "14   30       0   Acoustic\n",
       "15   31       0  Classical\n",
       "16   34       0  Classical\n",
       "17   35       0  Classical"
      ]
     },
     "execution_count": 61,
     "metadata": {},
     "output_type": "execute_result"
    }
   ],
   "source": [
    "music_data"
   ]
  },
  {
   "cell_type": "code",
   "execution_count": 62,
   "id": "6fa184f9",
   "metadata": {},
   "outputs": [
    {
     "data": {
      "text/plain": [
       "array(['HipHop', 'Dance', 'Classical'], dtype=object)"
      ]
     },
     "execution_count": 62,
     "metadata": {},
     "output_type": "execute_result"
    }
   ],
   "source": [
    "# now lets ask our model to predict something not exists in our dataset:\n",
    "predictions = model.predict([ [21,1],[22,0] ])\n",
    "predictions"
   ]
  },
  {
   "cell_type": "markdown",
   "id": "fed897f9",
   "metadata": {},
   "source": [
    "### How to measure the accuracy of our model?"
   ]
  },
  {
   "cell_type": "markdown",
   "id": "d775d4b2",
   "metadata": {},
   "source": [
    "* **We need** to split our dataset into two sets, one for **Training** and the other for **Testing**.\n",
    "* A general role is to allocate 70-80% of our data for training, and the other 20-30% for testing.\n",
    "    * Instade of passing only 2 samples \"In[62]\" to make predictions, we pass the dataset we have for testing, and get the predictions.\n",
    "    * then we compare these predictions with the actual value in the test set.\n",
    "* Based on that we can mesure the accurancy."
   ]
  },
  {
   "cell_type": "markdown",
   "id": "1c233db2",
   "metadata": {},
   "source": [
    "* to implement this we are going to write our code from the start, so we must put this code_line before \"In[50]:\" because we don't plan to measure the accuracy in advance:\n",
    "    * X_train, X_test, y_train, y_test = train_test_split(X, y, test_size=0.2)    \n",
    "    * the first two variables (X_train, X_test) are the **input sets for training & testing**.\n",
    "    * the other(y_train, y_test) are the **output sets for training & testing**. \n",
    "    * now, when training our model instead of passing the entire data set we want to pass only the training dataset:\n",
    "        * model.fit(X_train,y_train)\n",
    "    * when making predictions instead of passing these two samples \"In[62]:\" we pass x_test:\n",
    "        * predictions = model.predict(X_test)\n",
    "\n",
    "    * to **calculate the accuracy** we simply have to compare predictions with y_test(the actual values we have in our output set)"
   ]
  },
  {
   "cell_type": "code",
   "execution_count": 123,
   "id": "768d73ec",
   "metadata": {},
   "outputs": [],
   "source": [
    "import pandas as pd\n",
    "from sklearn.tree import DecisionTreeClassifier\n",
    "from sklearn.model_selection import train_test_split  #new to split the dataset\n",
    "from sklearn.metrics import accuracy_score            #new to measure the accuracy"
   ]
  },
  {
   "cell_type": "code",
   "execution_count": 124,
   "id": "3c8c7af1",
   "metadata": {},
   "outputs": [
    {
     "name": "stdout",
     "output_type": "stream",
     "text": [
      "Retriving Transactions Done!\n"
     ]
    }
   ],
   "source": [
    "music_data = pd.read_csv(\"https://nq.aibigdatasolutions.com/wp-content/uploads/2021/11/music.csv\")\n",
    "print (\"Retriving Transactions Done!\")"
   ]
  },
  {
   "cell_type": "code",
   "execution_count": 125,
   "id": "6ce089d8",
   "metadata": {},
   "outputs": [],
   "source": [
    "X = music_data.drop(columns=['genre'])\n",
    "y = music_data ['genre']\n",
    "X_train, X_test, y_train, y_test = train_test_split(X, y, test_size=0.2)"
   ]
  },
  {
   "cell_type": "code",
   "execution_count": 126,
   "id": "cc7056f6",
   "metadata": {},
   "outputs": [],
   "source": [
    "model = DecisionTreeClassifier()\n",
    "model.fit(X_train,y_train)\n",
    "predictions = model.predict(X_test)"
   ]
  },
  {
   "cell_type": "code",
   "execution_count": 127,
   "id": "cd07c4a6",
   "metadata": {},
   "outputs": [
    {
     "data": {
      "text/plain": [
       "1.0"
      ]
     },
     "execution_count": 127,
     "metadata": {},
     "output_type": "execute_result"
    }
   ],
   "source": [
    "score = accuracy_score(y_test, predictions)\n",
    "score"
   ]
  },
  {
   "cell_type": "markdown",
   "id": "a62c15f7",
   "metadata": {},
   "source": [
    "* the accuracy score is one or 100 percent, \n",
    "* but if we run this \"In[80], In[81], In[82]\" one more time we're going to see a **different result** because every time we split our data set into training and test sets we'll have different data sets **because this function randomly picks data for training and testing**"
   ]
  },
  {
   "cell_type": "markdown",
   "id": "066d978d",
   "metadata": {},
   "source": [
    "### Persisting Models"
   ]
  },
  {
   "cell_type": "markdown",
   "id": "caef0ecd",
   "metadata": {},
   "source": [
    "* Training a model **can sometimes be really time consuming**, in our example we're dealing with a very small data set, but in real applications we might have a data set with thousands or millions of samples, so training a model for that might take seconds minutes or even hours, **so that is why model persistence is important**.\n",
    "* We always build and train our model, and then we'll save it to a file, now next time we want to make predictions, we simply load the model from the file, and ask it to make predictions; that model is already trained, so we don't need to retrain it.\n",
    "* now we need to simplify things \n",
    "    * i have removed all the code that we wrote in the last section for calculating the accuracy because in this sction we're going to focus on a different topic\n",
    "    * we import our data set, create a model, train it, and then ask it to make predictions.\n",
    "* we can implement this by:\n",
    "    * from sklearn.externals module we import joblib, this joblib object has methods for saving and loading models.\n",
    "    * so after we train our model we simply call joblib.dump and give it two arguments, **\"our model\" and \"the name of the file\"** in which we want to store this model."
   ]
  },
  {
   "cell_type": "code",
   "execution_count": 138,
   "id": "d9eec49d",
   "metadata": {},
   "outputs": [],
   "source": [
    "import pandas as pd\n",
    "from sklearn.tree import DecisionTreeClassifier\n",
    "# pip install joblib\n",
    "# Joblib: running Python functions as pipeline jobs.\n",
    "# Joblib is a set of tools to provide pipelining in Python.\n",
    "# \"from sklearn.externals import joblib\" sometimes makes error so we import \"import joblib as jl\" instade:\n",
    "import joblib as jl"
   ]
  },
  {
   "cell_type": "code",
   "execution_count": 139,
   "id": "5c321344",
   "metadata": {},
   "outputs": [],
   "source": [
    "music_data = pd.read_csv(\"https://nq.aibigdatasolutions.com/wp-content/uploads/2021/11/music.csv\")\n",
    "X = music_data.drop(columns=['genre'])\n",
    "y = music_data ['genre']"
   ]
  },
  {
   "cell_type": "code",
   "execution_count": 140,
   "id": "8c96a4b8",
   "metadata": {},
   "outputs": [
    {
     "data": {
      "text/plain": [
       "DecisionTreeClassifier()"
      ]
     },
     "execution_count": 140,
     "metadata": {},
     "output_type": "execute_result"
    }
   ],
   "source": [
    "model = DecisionTreeClassifier()\n",
    "model.fit(X,y)"
   ]
  },
  {
   "cell_type": "code",
   "execution_count": 145,
   "id": "0428a39e",
   "metadata": {},
   "outputs": [
    {
     "name": "stdout",
     "output_type": "stream",
     "text": [
      "music-recommender.joblib File Created in the same directory of our Python File\n"
     ]
    }
   ],
   "source": [
    "# Creating joblib file:\n",
    "# joblib.dump has two arguments, \"our model\" and \"the name of the file\"\n",
    "jl.dump(model, 'music-recommender.joblib')\n",
    "print (\"music-recommender.joblib File Created in the same directory of our Python File\")"
   ]
  },
  {
   "cell_type": "markdown",
   "id": "e205c984",
   "metadata": {},
   "source": [
    "#### lets check how to run our prediction without learning our model agian:"
   ]
  },
  {
   "cell_type": "markdown",
   "id": "e8c64cde",
   "metadata": {},
   "source": [
    "* temporarily i'm going to **comment out the code-lines: In[139] & In[140]**\n",
    "* back to our .py directory we can see our joblib file.\n",
    "* as we mentioned before **in a real application we don't want to train a model every time** so: \n",
    "    * instead of dumping our model \n",
    "    * we're going to load it by \"call the **load_method**\""
   ]
  },
  {
   "cell_type": "code",
   "execution_count": 148,
   "id": "730b04d2",
   "metadata": {},
   "outputs": [],
   "source": [
    "import pandas as pd\n",
    "from sklearn.tree import DecisionTreeClassifier\n",
    "import joblib as jl"
   ]
  },
  {
   "cell_type": "code",
   "execution_count": 150,
   "id": "773f342d",
   "metadata": {},
   "outputs": [
    {
     "data": {
      "text/plain": [
       "array(['HipHop', 'Dance'], dtype=object)"
      ]
     },
     "execution_count": 150,
     "metadata": {},
     "output_type": "execute_result"
    }
   ],
   "source": [
    "model = jl.load('music-recommender.joblib')\n",
    "predictions = model.predict([ [21,1],[22,0] ])\n",
    "predictions"
   ]
  },
  {
   "cell_type": "markdown",
   "id": "49481611",
   "metadata": {},
   "source": [
    "### Visualising Decision Trees"
   ]
  },
  {
   "cell_type": "markdown",
   "id": "6a13ce1b",
   "metadata": {},
   "source": [
    "in this section, using decision trees we're going to **export our model in a visual format**, so we will see how this model makes predictions:\n",
    "* **import tree** this object has a method for exporting our decision tree in a graphical format"
   ]
  },
  {
   "cell_type": "code",
   "execution_count": 157,
   "id": "1b1ec7e8",
   "metadata": {},
   "outputs": [],
   "source": [
    "import pandas as pd\n",
    "from sklearn.tree import DecisionTreeClassifier\n",
    "from sklearn import tree"
   ]
  },
  {
   "cell_type": "code",
   "execution_count": 158,
   "id": "5aa48dd8",
   "metadata": {},
   "outputs": [],
   "source": [
    "music_data = pd.read_csv(\"https://nq.aibigdatasolutions.com/wp-content/uploads/2021/11/music.csv\")\n",
    "X = music_data.drop(columns=['genre'])\n",
    "y = music_data ['genre']"
   ]
  },
  {
   "cell_type": "code",
   "execution_count": 159,
   "id": "fb26cd4c",
   "metadata": {},
   "outputs": [
    {
     "data": {
      "text/plain": [
       "DecisionTreeClassifier()"
      ]
     },
     "execution_count": 159,
     "metadata": {},
     "output_type": "execute_result"
    }
   ],
   "source": [
    "model = DecisionTreeClassifier()\n",
    "model.fit(X,y)"
   ]
  },
  {
   "cell_type": "markdown",
   "id": "58eb0398",
   "metadata": {},
   "source": [
    "**The parameter we're going to set is:**\n",
    "* **out_file.dot**, dot this is the dot format which is a graph\n",
    "* **feature_names** we set this to an array of two strings age and gender these are the features or the columns of our data set so they are the properties or features of our data\n",
    "* **class_names**, we should set this to the list of classes or labels we have in our output data set, like hiphop, jazz, classical and so on,  so this y data set includes all the genres or all the classes of our data, but they're repeated a few times in this data set so here we call y.unique this returns the unique list of classes, now we should sort this alphabetically, so we call the **sorted function** and pass the result a y.unique\n",
    "* **label** we set this to a string all \n",
    "* **round** it to true.\n",
    "* **filled** to true"
   ]
  },
  {
   "cell_type": "code",
   "execution_count": 162,
   "id": "90684c30",
   "metadata": {},
   "outputs": [],
   "source": [
    "tree.export_graphviz(model, out_file='music-recommender.dot',\n",
    "                     feature_names = ['age','gender'],\n",
    "                     class_names = sorted(y.unique()),\n",
    "                     label ='all',\n",
    "                     rounded = True,\n",
    "                     filled = True)"
   ]
  },
  {
   "cell_type": "code",
   "execution_count": null,
   "id": "5c6d71f2",
   "metadata": {},
   "outputs": [],
   "source": []
  }
 ],
 "metadata": {
  "kernelspec": {
   "display_name": "Python 3",
   "language": "python",
   "name": "python3"
  },
  "language_info": {
   "codemirror_mode": {
    "name": "ipython",
    "version": 3
   },
   "file_extension": ".py",
   "mimetype": "text/x-python",
   "name": "python",
   "nbconvert_exporter": "python",
   "pygments_lexer": "ipython3",
   "version": "3.8.8"
  }
 },
 "nbformat": 4,
 "nbformat_minor": 5
}
